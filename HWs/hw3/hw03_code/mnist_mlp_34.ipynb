{
 "cells": [
  {
   "cell_type": "markdown",
   "metadata": {},
   "source": [
    "\n",
    "<h1 id=\"CMSC-636,-HW3:-Multilayer-perceptron-on-MNIST-dataset\">CMSC 636, HW3: Multilayer perceptron on MNIST dataset<a class=\"anchor-link\" href=\"#CMSC-636,-HW3:-Multilayer-perceptron-on-MNIST-dataset\">¶</a></h1><h3 id=\"NOTE:-Do-not-use-the-Keras-library\">NOTE: Do not use the Keras library<a class=\"anchor-link\" href=\"#NOTE:-Do-not-use-the-Keras-library\">¶</a></h3>\n"
   ]
  },
  {
   "cell_type": "code",
   "execution_count": 1,
   "metadata": {},
   "outputs": [],
   "source": [
    "import tensorflow as tf\n",
    "import numpy as np\n",
    "import matplotlib.pyplot as plt\n",
    "from types import SimpleNamespace\n",
    "%matplotlib inline"
   ]
  },
  {
   "cell_type": "markdown",
   "metadata": {},
   "source": [
    "\n",
    "<h1 id=\"1.-Load-MNIST\">1. Load MNIST<a class=\"anchor-link\" href=\"#1.-Load-MNIST\">¶</a></h1>\n"
   ]
  },
  {
   "cell_type": "code",
   "execution_count": 2,
   "metadata": {},
   "outputs": [],
   "source": [
    "\n",
    "# load mnist dataset with labels encoded as one-hot vectors\n",
    "class Dataset():\n",
    "    def __init__(self, data):\n",
    "        self.data = data\n",
    "        self.index = 0\n",
    "        self.epochs = 0\n",
    "\n",
    "    def shuffle(self):\n",
    "        perm = np.arange(self.data[0].shape[0])\n",
    "        np.random.shuffle(perm)\n",
    "        self.data = tuple(datai[perm] for datai in self.data)\n",
    "    \n",
    "    def next_batch(self, batch_size):\n",
    "        start = self.index\n",
    "        end = self.index + batch_size\n",
    "        if end > self.data[0].shape[0]:\n",
    "            self.epochs += 1\n",
    "            self.shuffle()\n",
    "            self.index, start = 0, 0\n",
    "            end = batch_size\n",
    "        self.index = end\n",
    "        return tuple(datai[start:end, ...] for datai in self.data)\n",
    "            \n",
    "def load_mnist():\n",
    "    def preprocess(data, labels, num_classes):\n",
    "        # flatten images\n",
    "        data = data.astype(np.float32)/255.0\n",
    "        data = np.reshape(data, [data.shape[0], -1])\n",
    "        # one hot encoding\n",
    "        num_labels = labels.shape[0]\n",
    "        index_offset = np.arange(num_labels) * num_classes\n",
    "        labels_one_hot = np.zeros((num_labels, num_classes))\n",
    "        labels_one_hot.flat[index_offset + labels.ravel()] = 1\n",
    "        return data, labels_one_hot\n",
    "    train, test = tf.keras.datasets.mnist.load_data()\n",
    "    train = preprocess(train[0], train[1], 10)\n",
    "    test = preprocess(test[0], test[1], 10)\n",
    "    return SimpleNamespace(\n",
    "        train=Dataset(train), \n",
    "        test=Dataset(test))\n",
    "mnist = load_mnist()"
   ]
  },
  {
   "cell_type": "markdown",
   "metadata": {},
   "source": [
    "\n",
    "<h1 id=\"2.-Model-definition\">2. Model definition<a class=\"anchor-link\" href=\"#2.-Model-definition\">¶</a></h1>\n"
   ]
  },
  {
   "cell_type": "code",
   "execution_count": 3,
   "outputs": [],
   "source": [
    "\n",
    "# Define parameters of the network\n",
    "input_size= 28*28\n",
    "n_outputs =  10\n",
    "n_hidden = 100\n",
    "batch_size= 100\n"
   ],
   "metadata": {
    "collapsed": false,
    "pycharm": {
     "name": "#%%\n"
    }
   }
  },
  {
   "cell_type": "markdown",
   "metadata": {},
   "source": [
    "\n",
    "<p>Define the model:</p>\n",
    "<p>h1 = relu(x w1 + b1) &lt;/br&gt;\n",
    "logits = h1 w2 + b2 &lt;/br&gt;</p>\n",
    "<p>Where \"x w1\" is a matrix multiplication between the matices x and w1. \n",
    "The matrix x is a matrix whose rows represent the training input data.</p>\n"
   ]
  },
  {
   "cell_type": "code",
   "execution_count": 8,
   "metadata": {},
   "outputs": [],
   "source": [
    "\n",
    "class DenseLayer(object):\n",
    "    def __init__(self, n_inputs, n_units, afunc=None, w_stddev=0.01):\n",
    "        '''Define the parameters of the layer'''\n",
    "        self.w = tf.Variable(\n",
    "            tf.random.truncated_normal([n_inputs, n_units], stddev=w_stddev),\n",
    "            name='w')\n",
    "        self.b = tf.Variable(\n",
    "            tf.zeros([n_units]), \n",
    "            name='b')\n",
    "        self.afunc = afunc\n",
    "    \n",
    "    def trainable_variables(self):\n",
    "        '''return trainable variables'''\n",
    "        return [self.w, self.b]\n",
    "\n",
    "    def __call__(self, x):\n",
    "        '''Layer function definition'''\n",
    "        y = tf.matmul(x, self.w) + self.b\n",
    "        if self.afunc is not None:\n",
    "            y = self.afunc(y)\n",
    "        return y\n",
    "\n",
    "class LogisticReg(object):\n",
    "    def __init__(self, layers):\n",
    "        self.layers = layers\n",
    "    \n",
    "    def trainable_variables(self):\n",
    "        return [var for layer in self.layers \n",
    "                for var in layer.trainable_variables()]\n",
    "        \n",
    "    def __call__(self, x, logits=False):\n",
    "        '''call layers and apply softmax if logits=False'''\n",
    "        # compute layers\n",
    "        output = x\n",
    "        for layer in self.layers:\n",
    "            output = layer(output)\n",
    "        # apply softmax if logits is false\n",
    "        # use logits=True for training\n",
    "        if not logits:  \n",
    "            output = tf.nn.softmax(output)\n",
    "        return output\n",
    "\n",
    "def loss_fn(logits, labels, weights):\n",
    "    '''compute softmax cross entory'''\n",
    "    error = tf.reduce_mean(tf.nn.softmax_cross_entropy_with_logits(\n",
    "        logits=logits, \n",
    "        labels=labels))\n",
    "    # weights are not used... try to add a regularization loss\n",
    "    # reg = ???\n",
    "    reg = tf.reduce_mean([tf.nn.l2_loss(w) for w in weights])\n",
    "    return error + 0.0001*reg\n",
    "    \n",
    "# define model\n",
    "hidden_layer = DenseLayer(n_inputs=784, n_units=n_hidden, afunc=tf.nn.sigmoid)\n",
    "hidden_layer2 = DenseLayer(n_inputs=n_hidden, n_units=n_hidden, afunc=tf.nn.sigmoid)\n",
    "out_layer = DenseLayer(n_inputs=n_hidden, n_units=n_outputs)\n",
    "model = LogisticReg([hidden_layer, hidden_layer2, out_layer])\n",
    "weights = [layer.w for layer in model.layers]\n",
    "\n",
    "# define optimizer.\n",
    "optimizer = tf.keras.optimizers.Adam(1e-3)  \n",
    "\n"
   ]
  },
  {
   "cell_type": "markdown",
   "metadata": {},
   "source": [
    "\n",
    "<h1 id=\"3.-Training\">3. Training<a class=\"anchor-link\" href=\"#3.-Training\">¶</a></h1>"
   ]
  },
  {
   "cell_type": "code",
   "execution_count": 5,
   "metadata": {},
   "outputs": [],
   "source": [
    "def accuracy(predictions, labels):\n",
    "    if n_outputs == 1:\n",
    "        return (100.0 * np.sum(np.greater(predictions, 0.5) == np.greater(labels, 0.5))/ predictions.shape[0])\n",
    "    else:\n",
    "        return (100.0 * np.sum(np.argmax(predictions, 1) == np.argmax(labels, 1))/ predictions.shape[0])"
   ]
  },
  {
   "cell_type": "code",
   "execution_count": 6,
   "metadata": {},
   "outputs": [],
   "source": [
    "num_steps = 10000\n",
    "summary_freq = 200\n",
    "n_test_log = 10\n",
    "\n",
    "def train_step(labels, inputs):\n",
    "    '''run a single step of gradient descent'''\n",
    "    # compute gradients\n",
    "    with tf.GradientTape() as tape:\n",
    "        logits = model(inputs, logits=True)\n",
    "        loss = loss_fn(logits, labels, weights)\n",
    "    # apply grandients to optimizer\n",
    "    gradients = tape.gradient(loss, model.trainable_variables())\n",
    "    optimizer.apply_gradients(zip(gradients, model.trainable_variables()))\n",
    "    \n",
    "    return loss.numpy(), model(inputs).numpy()\n",
    "\n"
   ]
  },
  {
   "cell_type": "code",
   "execution_count": 9,
   "metadata": {},
   "outputs": [
    {
     "name": "stdout",
     "output_type": "stream",
     "text": [
      "0 , train: 0.065  | test: 8.3  | loss: 0.011538406610488891\n",
      "200 , train: 42.555  | test: 73.6  | loss: 1.7318273410201073\n",
      "400 , train: 81.135  | test: 86.5  | loss: 0.7238972349464894\n",
      "600 , train: 88.25  | test: 89.4  | loss: 0.4707300987839699\n",
      "800 , train: 90.84  | test: 91.4  | loss: 0.36203978665173053\n",
      "1000 , train: 92.11  | test: 93.3  | loss: 0.3072360014915466\n",
      "1200 , train: 93.105  | test: 92.1  | loss: 0.272859590575099\n",
      "1400 , train: 93.99  | test: 95.4  | loss: 0.24536207787692546\n",
      "1600 , train: 94.565  | test: 95.7  | loss: 0.22538544051349163\n",
      "1800 , train: 94.97  | test: 95.3  | loss: 0.20754133701324462\n",
      "2000 , train: 95.18  | test: 94.3  | loss: 0.2001122620329261\n",
      "2200 , train: 95.86  | test: 94.1  | loss: 0.1804575649648905\n",
      "2400 , train: 95.825  | test: 96.6  | loss: 0.17401244297623633\n",
      "2600 , train: 96.16  | test: 95.7  | loss: 0.17036365266889333\n",
      "2800 , train: 96.585  | test: 95.5  | loss: 0.15566566694527864\n",
      "3000 , train: 96.745  | test: 95.6  | loss: 0.1461813496053219\n",
      "3200 , train: 96.715  | test: 95.5  | loss: 0.1515293715149164\n",
      "3400 , train: 97.115  | test: 97.1  | loss: 0.13785521240904927\n",
      "3600 , train: 97.165  | test: 97.5  | loss: 0.13570913255214692\n",
      "3800 , train: 97.355  | test: 97.0  | loss: 0.1324633192643523\n",
      "4000 , train: 97.545  | test: 97.0  | loss: 0.12716396212577818\n",
      "4200 , train: 97.565  | test: 96.3  | loss: 0.1207137930765748\n",
      "4400 , train: 97.62  | test: 97.0  | loss: 0.12040609493851662\n",
      "4600 , train: 97.79  | test: 97.4  | loss: 0.11510484931990504\n",
      "4800 , train: 98.03  | test: 97.0  | loss: 0.10863587884232402\n",
      "5000 , train: 97.825  | test: 96.7  | loss: 0.11235811233520508\n",
      "5200 , train: 98.195  | test: 97.0  | loss: 0.1039209657907486\n",
      "5400 , train: 98.095  | test: 97.3  | loss: 0.10498233020305633\n",
      "5600 , train: 98.22  | test: 96.6  | loss: 0.10310672169551253\n",
      "5800 , train: 98.365  | test: 96.6  | loss: 0.09916820967569948\n",
      "6000 , train: 98.41  | test: 97.0  | loss: 0.09773184515535832\n",
      "6200 , train: 98.41  | test: 98.0  | loss: 0.0946595243178308\n",
      "6400 , train: 98.775  | test: 97.4  | loss: 0.08609703909605741\n",
      "6600 , train: 98.43  | test: 97.2  | loss: 0.0950231715850532\n",
      "6800 , train: 98.525  | test: 97.3  | loss: 0.09313816219568252\n",
      "7000 , train: 98.89  | test: 97.6  | loss: 0.0847415741533041\n",
      "7200 , train: 98.815  | test: 97.8  | loss: 0.0840737035125494\n",
      "7400 , train: 98.69  | test: 97.5  | loss: 0.08871536729857325\n",
      "7600 , train: 98.925  | test: 97.6  | loss: 0.08183810157701372\n",
      "7800 , train: 98.89  | test: 96.9  | loss: 0.08273108001798392\n",
      "8000 , train: 98.865  | test: 97.7  | loss: 0.08035411026328802\n",
      "8200 , train: 99.06  | test: 98.6  | loss: 0.0770528326742351\n",
      "8400 , train: 99.055  | test: 97.2  | loss: 0.08104117585346103\n",
      "8600 , train: 99.1  | test: 97.6  | loss: 0.07584768081083894\n",
      "8800 , train: 99.315  | test: 97.1  | loss: 0.07169991755858064\n",
      "9000 , train: 99.05  | test: 97.1  | loss: 0.07637742694467306\n",
      "9200 , train: 99.155  | test: 98.1  | loss: 0.07452781012281776\n",
      "9400 , train: 99.385  | test: 97.7  | loss: 0.06965800985693932\n",
      "9600 , train: 99.235  | test: 98.2  | loss: 0.07210672548040747\n",
      "9800 , train: 99.19  | test: 97.3  | loss: 0.07373605350032449\n",
      "10000 , train: 99.475  | test: 97.2  | loss: 0.06665678068995476\n"
     ]
    }
   ],
   "source": [
    "\n",
    "mean_loss= 0\n",
    "train_accuracy= 0\n",
    "# Perform num_steps training steps\n",
    "for step in range(num_steps + 1):\n",
    "    # Get next batch of 100 images\n",
    "    batch_X, batch_y= mnist.train.next_batch(batch_size)    \n",
    "    # Call the optimizer to perform one step of the training\n",
    "    l, train_pred = train_step(batch_y, batch_X)\n",
    "    # Compute accuracy\n",
    "    train_accuracy += accuracy(train_pred, batch_y)\n",
    "    mean_loss += l\n",
    "    if step%summary_freq == 0:\n",
    "        # Mean train accuracy\n",
    "        train_accuracy= train_accuracy/summary_freq\n",
    "        # Evaluate accuracy on test dataset\n",
    "        test_accuracy= 0\n",
    "        for i in range(n_test_log):\n",
    "            batch_X_test, batch_y_test= mnist.test.next_batch(batch_size) \n",
    "            pred = model(batch_X_test)\n",
    "            test_accuracy += accuracy(pred, batch_y_test)\n",
    "        test_accuracy= test_accuracy/n_test_log\n",
    "        \n",
    "        print(step, ', train:',train_accuracy,' | test:', test_accuracy, ' | loss:', mean_loss/summary_freq)\n",
    "        mean_loss= 0\n",
    "        train_accuracy= 0"
   ]
  },
  {
   "cell_type": "markdown",
   "metadata": {},
   "source": [
    "\n",
    "<h1 id=\"4.-Test-the-model-using-testing-dataset\">4. Test the model using testing dataset<a class=\"anchor-link\" href=\"#4.-Test-the-model-using-testing-dataset\">¶</a></h1>\n"
   ]
  },
  {
   "cell_type": "code",
   "execution_count": 50,
   "metadata": {
    "pycharm": {
     "name": "#%%\n"
    }
   },
   "outputs": [
    {
     "name": "stdout",
     "output_type": "stream",
     "text": [
      "Actual number: 8\n",
      "Prediction by the model: 8\n"
     ]
    },
    {
     "data": {
      "text/plain": "<matplotlib.image.AxesImage at 0x7f9f501bf2e0>"
     },
     "execution_count": 50,
     "metadata": {},
     "output_type": "execute_result"
    },
    {
     "data": {
      "text/plain": "<Figure size 432x288 with 1 Axes>",
      "image/png": "[encoded data removed]"
     },
     "metadata": {
      "needs_background": "light"
     },
     "output_type": "display_data"
    }
   ],
   "source": [
    "\n",
    "# Acquire one sample from the mnist dataset\n",
    "test_sample_x, test_sample_y= mnist.test.next_batch(1) \n",
    "\n",
    "# Get a prediction for this sample\n",
    "pred = model(test_sample_x, logits=False)\n",
    "\n",
    "print('Actual number:', np.argmax(test_sample_y))\n",
    "print('Prediction by the model:', np.argmax(pred))\n",
    "\n",
    "# plot\n",
    "plt.imshow(np.reshape(test_sample_x, [28,28]))\n",
    "\n"
   ]
  }
 ],
 "metadata": {
  "kernelspec": {
   "display_name": "Python 3 (ipykernel)",
   "language": "python",
   "name": "python3"
  },
  "language_info": {
   "codemirror_mode": {
    "name": "ipython",
    "version": 3
   },
   "file_extension": ".py",
   "mimetype": "text/x-python",
   "name": "python",
   "nbconvert_exporter": "python",
   "pygments_lexer": "ipython3",
   "version": "3.8.10"
  }
 },
 "nbformat": 4,
 "nbformat_minor": 1
}